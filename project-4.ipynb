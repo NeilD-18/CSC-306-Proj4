{
 "cells": [
  {
   "cell_type": "markdown",
   "id": "badc560c",
   "metadata": {},
   "source": [
    "Aknowledgements:\n",
    "Some of the following code has been taken from the the following github repositiory, given in the main page of the shared task 8 and can be seen through this link: \n",
    "https://github.com/jorses/databench_eval/blob/main/examples/competition_baseline.py\n",
    "\n"
   ]
  },
  {
   "cell_type": "code",
   "execution_count": 1,
   "id": "8f8a505b",
   "metadata": {},
   "outputs": [
    {
     "name": "stdout",
     "output_type": "stream",
     "text": [
      "Requirement already satisfied: databench-eval in ./csc306.venv/lib/python3.12/site-packages (3.0.1)\n",
      "Requirement already satisfied: datasets in ./csc306.venv/lib/python3.12/site-packages (from databench-eval) (3.3.2)\n",
      "Requirement already satisfied: tqdm in ./csc306.venv/lib/python3.12/site-packages (from databench-eval) (4.67.1)\n",
      "Requirement already satisfied: pandas in ./csc306.venv/lib/python3.12/site-packages (from databench-eval) (2.2.3)\n",
      "Requirement already satisfied: numpy in ./csc306.venv/lib/python3.12/site-packages (from databench-eval) (2.2.3)\n",
      "Requirement already satisfied: filelock in ./csc306.venv/lib/python3.12/site-packages (from datasets->databench-eval) (3.17.0)\n",
      "Requirement already satisfied: pyarrow>=15.0.0 in ./csc306.venv/lib/python3.12/site-packages (from datasets->databench-eval) (19.0.1)\n",
      "Requirement already satisfied: dill<0.3.9,>=0.3.0 in ./csc306.venv/lib/python3.12/site-packages (from datasets->databench-eval) (0.3.8)\n",
      "Requirement already satisfied: requests>=2.32.2 in ./csc306.venv/lib/python3.12/site-packages (from datasets->databench-eval) (2.32.3)\n",
      "Requirement already satisfied: xxhash in ./csc306.venv/lib/python3.12/site-packages (from datasets->databench-eval) (3.5.0)\n",
      "Requirement already satisfied: multiprocess<0.70.17 in ./csc306.venv/lib/python3.12/site-packages (from datasets->databench-eval) (0.70.16)\n",
      "Requirement already satisfied: fsspec<=2024.12.0,>=2023.1.0 in ./csc306.venv/lib/python3.12/site-packages (from fsspec[http]<=2024.12.0,>=2023.1.0->datasets->databench-eval) (2024.12.0)\n",
      "Requirement already satisfied: aiohttp in ./csc306.venv/lib/python3.12/site-packages (from datasets->databench-eval) (3.11.13)\n",
      "Requirement already satisfied: huggingface-hub>=0.24.0 in ./csc306.venv/lib/python3.12/site-packages (from datasets->databench-eval) (0.29.2)\n",
      "Requirement already satisfied: packaging in ./csc306.venv/lib/python3.12/site-packages (from datasets->databench-eval) (24.2)\n",
      "Requirement already satisfied: pyyaml>=5.1 in ./csc306.venv/lib/python3.12/site-packages (from datasets->databench-eval) (6.0.2)\n",
      "Requirement already satisfied: python-dateutil>=2.8.2 in ./csc306.venv/lib/python3.12/site-packages (from pandas->databench-eval) (2.9.0.post0)\n",
      "Requirement already satisfied: pytz>=2020.1 in ./csc306.venv/lib/python3.12/site-packages (from pandas->databench-eval) (2025.1)\n",
      "Requirement already satisfied: tzdata>=2022.7 in ./csc306.venv/lib/python3.12/site-packages (from pandas->databench-eval) (2025.1)\n",
      "Requirement already satisfied: aiohappyeyeballs>=2.3.0 in ./csc306.venv/lib/python3.12/site-packages (from aiohttp->datasets->databench-eval) (2.5.0)\n",
      "Requirement already satisfied: aiosignal>=1.1.2 in ./csc306.venv/lib/python3.12/site-packages (from aiohttp->datasets->databench-eval) (1.3.2)\n",
      "Requirement already satisfied: attrs>=17.3.0 in ./csc306.venv/lib/python3.12/site-packages (from aiohttp->datasets->databench-eval) (25.1.0)\n",
      "Requirement already satisfied: frozenlist>=1.1.1 in ./csc306.venv/lib/python3.12/site-packages (from aiohttp->datasets->databench-eval) (1.5.0)\n",
      "Requirement already satisfied: multidict<7.0,>=4.5 in ./csc306.venv/lib/python3.12/site-packages (from aiohttp->datasets->databench-eval) (6.1.0)\n",
      "Requirement already satisfied: propcache>=0.2.0 in ./csc306.venv/lib/python3.12/site-packages (from aiohttp->datasets->databench-eval) (0.3.0)\n",
      "Requirement already satisfied: yarl<2.0,>=1.17.0 in ./csc306.venv/lib/python3.12/site-packages (from aiohttp->datasets->databench-eval) (1.18.3)\n",
      "Requirement already satisfied: typing-extensions>=3.7.4.3 in ./csc306.venv/lib/python3.12/site-packages (from huggingface-hub>=0.24.0->datasets->databench-eval) (4.12.2)\n",
      "Requirement already satisfied: six>=1.5 in ./csc306.venv/lib/python3.12/site-packages (from python-dateutil>=2.8.2->pandas->databench-eval) (1.17.0)\n",
      "Requirement already satisfied: charset-normalizer<4,>=2 in ./csc306.venv/lib/python3.12/site-packages (from requests>=2.32.2->datasets->databench-eval) (3.4.1)\n",
      "Requirement already satisfied: idna<4,>=2.5 in ./csc306.venv/lib/python3.12/site-packages (from requests>=2.32.2->datasets->databench-eval) (3.10)\n",
      "Requirement already satisfied: urllib3<3,>=1.21.1 in ./csc306.venv/lib/python3.12/site-packages (from requests>=2.32.2->datasets->databench-eval) (2.3.0)\n",
      "Requirement already satisfied: certifi>=2017.4.17 in ./csc306.venv/lib/python3.12/site-packages (from requests>=2.32.2->datasets->databench-eval) (2025.1.31)\n",
      "\n",
      "\u001b[1m[\u001b[0m\u001b[34;49mnotice\u001b[0m\u001b[1;39;49m]\u001b[0m\u001b[39;49m A new release of pip is available: \u001b[0m\u001b[31;49m24.2\u001b[0m\u001b[39;49m -> \u001b[0m\u001b[32;49m25.0.1\u001b[0m\n",
      "\u001b[1m[\u001b[0m\u001b[34;49mnotice\u001b[0m\u001b[1;39;49m]\u001b[0m\u001b[39;49m To update, run: \u001b[0m\u001b[32;49mpip install --upgrade pip\u001b[0m\n",
      "Note: you may need to restart the kernel to use updated packages.\n",
      "Requirement already satisfied: pandas in ./csc306.venv/lib/python3.12/site-packages (2.2.3)\n",
      "Requirement already satisfied: numpy>=1.26.0 in ./csc306.venv/lib/python3.12/site-packages (from pandas) (2.2.3)\n",
      "Requirement already satisfied: python-dateutil>=2.8.2 in ./csc306.venv/lib/python3.12/site-packages (from pandas) (2.9.0.post0)\n",
      "Requirement already satisfied: pytz>=2020.1 in ./csc306.venv/lib/python3.12/site-packages (from pandas) (2025.1)\n",
      "Requirement already satisfied: tzdata>=2022.7 in ./csc306.venv/lib/python3.12/site-packages (from pandas) (2025.1)\n",
      "Requirement already satisfied: six>=1.5 in ./csc306.venv/lib/python3.12/site-packages (from python-dateutil>=2.8.2->pandas) (1.17.0)\n",
      "\n",
      "\u001b[1m[\u001b[0m\u001b[34;49mnotice\u001b[0m\u001b[1;39;49m]\u001b[0m\u001b[39;49m A new release of pip is available: \u001b[0m\u001b[31;49m24.2\u001b[0m\u001b[39;49m -> \u001b[0m\u001b[32;49m25.0.1\u001b[0m\n",
      "\u001b[1m[\u001b[0m\u001b[34;49mnotice\u001b[0m\u001b[1;39;49m]\u001b[0m\u001b[39;49m To update, run: \u001b[0m\u001b[32;49mpip install --upgrade pip\u001b[0m\n",
      "Note: you may need to restart the kernel to use updated packages.\n",
      "Requirement already satisfied: datasets in ./csc306.venv/lib/python3.12/site-packages (3.3.2)\n",
      "Requirement already satisfied: filelock in ./csc306.venv/lib/python3.12/site-packages (from datasets) (3.17.0)\n",
      "Requirement already satisfied: numpy>=1.17 in ./csc306.venv/lib/python3.12/site-packages (from datasets) (2.2.3)\n",
      "Requirement already satisfied: pyarrow>=15.0.0 in ./csc306.venv/lib/python3.12/site-packages (from datasets) (19.0.1)\n",
      "Requirement already satisfied: dill<0.3.9,>=0.3.0 in ./csc306.venv/lib/python3.12/site-packages (from datasets) (0.3.8)\n",
      "Requirement already satisfied: pandas in ./csc306.venv/lib/python3.12/site-packages (from datasets) (2.2.3)\n",
      "Requirement already satisfied: requests>=2.32.2 in ./csc306.venv/lib/python3.12/site-packages (from datasets) (2.32.3)\n",
      "Requirement already satisfied: tqdm>=4.66.3 in ./csc306.venv/lib/python3.12/site-packages (from datasets) (4.67.1)\n",
      "Requirement already satisfied: xxhash in ./csc306.venv/lib/python3.12/site-packages (from datasets) (3.5.0)\n",
      "Requirement already satisfied: multiprocess<0.70.17 in ./csc306.venv/lib/python3.12/site-packages (from datasets) (0.70.16)\n",
      "Requirement already satisfied: fsspec<=2024.12.0,>=2023.1.0 in ./csc306.venv/lib/python3.12/site-packages (from fsspec[http]<=2024.12.0,>=2023.1.0->datasets) (2024.12.0)\n",
      "Requirement already satisfied: aiohttp in ./csc306.venv/lib/python3.12/site-packages (from datasets) (3.11.13)\n",
      "Requirement already satisfied: huggingface-hub>=0.24.0 in ./csc306.venv/lib/python3.12/site-packages (from datasets) (0.29.2)\n",
      "Requirement already satisfied: packaging in ./csc306.venv/lib/python3.12/site-packages (from datasets) (24.2)\n",
      "Requirement already satisfied: pyyaml>=5.1 in ./csc306.venv/lib/python3.12/site-packages (from datasets) (6.0.2)\n",
      "Requirement already satisfied: aiohappyeyeballs>=2.3.0 in ./csc306.venv/lib/python3.12/site-packages (from aiohttp->datasets) (2.5.0)\n",
      "Requirement already satisfied: aiosignal>=1.1.2 in ./csc306.venv/lib/python3.12/site-packages (from aiohttp->datasets) (1.3.2)\n",
      "Requirement already satisfied: attrs>=17.3.0 in ./csc306.venv/lib/python3.12/site-packages (from aiohttp->datasets) (25.1.0)\n",
      "Requirement already satisfied: frozenlist>=1.1.1 in ./csc306.venv/lib/python3.12/site-packages (from aiohttp->datasets) (1.5.0)\n",
      "Requirement already satisfied: multidict<7.0,>=4.5 in ./csc306.venv/lib/python3.12/site-packages (from aiohttp->datasets) (6.1.0)\n",
      "Requirement already satisfied: propcache>=0.2.0 in ./csc306.venv/lib/python3.12/site-packages (from aiohttp->datasets) (0.3.0)\n",
      "Requirement already satisfied: yarl<2.0,>=1.17.0 in ./csc306.venv/lib/python3.12/site-packages (from aiohttp->datasets) (1.18.3)\n",
      "Requirement already satisfied: typing-extensions>=3.7.4.3 in ./csc306.venv/lib/python3.12/site-packages (from huggingface-hub>=0.24.0->datasets) (4.12.2)\n",
      "Requirement already satisfied: charset-normalizer<4,>=2 in ./csc306.venv/lib/python3.12/site-packages (from requests>=2.32.2->datasets) (3.4.1)\n",
      "Requirement already satisfied: idna<4,>=2.5 in ./csc306.venv/lib/python3.12/site-packages (from requests>=2.32.2->datasets) (3.10)\n",
      "Requirement already satisfied: urllib3<3,>=1.21.1 in ./csc306.venv/lib/python3.12/site-packages (from requests>=2.32.2->datasets) (2.3.0)\n",
      "Requirement already satisfied: certifi>=2017.4.17 in ./csc306.venv/lib/python3.12/site-packages (from requests>=2.32.2->datasets) (2025.1.31)\n",
      "Requirement already satisfied: python-dateutil>=2.8.2 in ./csc306.venv/lib/python3.12/site-packages (from pandas->datasets) (2.9.0.post0)\n",
      "Requirement already satisfied: pytz>=2020.1 in ./csc306.venv/lib/python3.12/site-packages (from pandas->datasets) (2025.1)\n",
      "Requirement already satisfied: tzdata>=2022.7 in ./csc306.venv/lib/python3.12/site-packages (from pandas->datasets) (2025.1)\n",
      "Requirement already satisfied: six>=1.5 in ./csc306.venv/lib/python3.12/site-packages (from python-dateutil>=2.8.2->pandas->datasets) (1.17.0)\n",
      "\n",
      "\u001b[1m[\u001b[0m\u001b[34;49mnotice\u001b[0m\u001b[1;39;49m]\u001b[0m\u001b[39;49m A new release of pip is available: \u001b[0m\u001b[31;49m24.2\u001b[0m\u001b[39;49m -> \u001b[0m\u001b[32;49m25.0.1\u001b[0m\n",
      "\u001b[1m[\u001b[0m\u001b[34;49mnotice\u001b[0m\u001b[1;39;49m]\u001b[0m\u001b[39;49m To update, run: \u001b[0m\u001b[32;49mpip install --upgrade pip\u001b[0m\n",
      "Note: you may need to restart the kernel to use updated packages.\n",
      "Requirement already satisfied: tqdm in ./csc306.venv/lib/python3.12/site-packages (4.67.1)\n",
      "\n",
      "\u001b[1m[\u001b[0m\u001b[34;49mnotice\u001b[0m\u001b[1;39;49m]\u001b[0m\u001b[39;49m A new release of pip is available: \u001b[0m\u001b[31;49m24.2\u001b[0m\u001b[39;49m -> \u001b[0m\u001b[32;49m25.0.1\u001b[0m\n",
      "\u001b[1m[\u001b[0m\u001b[34;49mnotice\u001b[0m\u001b[1;39;49m]\u001b[0m\u001b[39;49m To update, run: \u001b[0m\u001b[32;49mpip install --upgrade pip\u001b[0m\n",
      "Note: you may need to restart the kernel to use updated packages.\n",
      "Requirement already satisfied: dotenv in ./csc306.venv/lib/python3.12/site-packages (0.9.9)\n",
      "Requirement already satisfied: python-dotenv in ./csc306.venv/lib/python3.12/site-packages (from dotenv) (1.0.1)\n",
      "\n",
      "\u001b[1m[\u001b[0m\u001b[34;49mnotice\u001b[0m\u001b[1;39;49m]\u001b[0m\u001b[39;49m A new release of pip is available: \u001b[0m\u001b[31;49m24.2\u001b[0m\u001b[39;49m -> \u001b[0m\u001b[32;49m25.0.1\u001b[0m\n",
      "\u001b[1m[\u001b[0m\u001b[34;49mnotice\u001b[0m\u001b[1;39;49m]\u001b[0m\u001b[39;49m To update, run: \u001b[0m\u001b[32;49mpip install --upgrade pip\u001b[0m\n",
      "Note: you may need to restart the kernel to use updated packages.\n",
      "Requirement already satisfied: rich in ./csc306.venv/lib/python3.12/site-packages (13.9.4)\n",
      "Requirement already satisfied: markdown-it-py>=2.2.0 in ./csc306.venv/lib/python3.12/site-packages (from rich) (3.0.0)\n",
      "Requirement already satisfied: pygments<3.0.0,>=2.13.0 in ./csc306.venv/lib/python3.12/site-packages (from rich) (2.19.1)\n",
      "Requirement already satisfied: mdurl~=0.1 in ./csc306.venv/lib/python3.12/site-packages (from markdown-it-py>=2.2.0->rich) (0.1.2)\n",
      "\n",
      "\u001b[1m[\u001b[0m\u001b[34;49mnotice\u001b[0m\u001b[1;39;49m]\u001b[0m\u001b[39;49m A new release of pip is available: \u001b[0m\u001b[31;49m24.2\u001b[0m\u001b[39;49m -> \u001b[0m\u001b[32;49m25.0.1\u001b[0m\n",
      "\u001b[1m[\u001b[0m\u001b[34;49mnotice\u001b[0m\u001b[1;39;49m]\u001b[0m\u001b[39;49m To update, run: \u001b[0m\u001b[32;49mpip install --upgrade pip\u001b[0m\n",
      "Note: you may need to restart the kernel to use updated packages.\n",
      "Requirement already satisfied: openai in ./csc306.venv/lib/python3.12/site-packages (1.65.5)\n",
      "Requirement already satisfied: anyio<5,>=3.5.0 in ./csc306.venv/lib/python3.12/site-packages (from openai) (4.8.0)\n",
      "Requirement already satisfied: distro<2,>=1.7.0 in ./csc306.venv/lib/python3.12/site-packages (from openai) (1.9.0)\n",
      "Requirement already satisfied: httpx<1,>=0.23.0 in ./csc306.venv/lib/python3.12/site-packages (from openai) (0.28.1)\n",
      "Requirement already satisfied: jiter<1,>=0.4.0 in ./csc306.venv/lib/python3.12/site-packages (from openai) (0.8.2)\n",
      "Requirement already satisfied: pydantic<3,>=1.9.0 in ./csc306.venv/lib/python3.12/site-packages (from openai) (2.10.6)\n",
      "Requirement already satisfied: sniffio in ./csc306.venv/lib/python3.12/site-packages (from openai) (1.3.1)\n",
      "Requirement already satisfied: tqdm>4 in ./csc306.venv/lib/python3.12/site-packages (from openai) (4.67.1)\n",
      "Requirement already satisfied: typing-extensions<5,>=4.11 in ./csc306.venv/lib/python3.12/site-packages (from openai) (4.12.2)\n",
      "Requirement already satisfied: idna>=2.8 in ./csc306.venv/lib/python3.12/site-packages (from anyio<5,>=3.5.0->openai) (3.10)\n",
      "Requirement already satisfied: certifi in ./csc306.venv/lib/python3.12/site-packages (from httpx<1,>=0.23.0->openai) (2025.1.31)\n",
      "Requirement already satisfied: httpcore==1.* in ./csc306.venv/lib/python3.12/site-packages (from httpx<1,>=0.23.0->openai) (1.0.7)\n",
      "Requirement already satisfied: h11<0.15,>=0.13 in ./csc306.venv/lib/python3.12/site-packages (from httpcore==1.*->httpx<1,>=0.23.0->openai) (0.14.0)\n",
      "Requirement already satisfied: annotated-types>=0.6.0 in ./csc306.venv/lib/python3.12/site-packages (from pydantic<3,>=1.9.0->openai) (0.7.0)\n",
      "Requirement already satisfied: pydantic-core==2.27.2 in ./csc306.venv/lib/python3.12/site-packages (from pydantic<3,>=1.9.0->openai) (2.27.2)\n",
      "\n",
      "\u001b[1m[\u001b[0m\u001b[34;49mnotice\u001b[0m\u001b[1;39;49m]\u001b[0m\u001b[39;49m A new release of pip is available: \u001b[0m\u001b[31;49m24.2\u001b[0m\u001b[39;49m -> \u001b[0m\u001b[32;49m25.0.1\u001b[0m\n",
      "\u001b[1m[\u001b[0m\u001b[34;49mnotice\u001b[0m\u001b[1;39;49m]\u001b[0m\u001b[39;49m To update, run: \u001b[0m\u001b[32;49mpip install --upgrade pip\u001b[0m\n",
      "Note: you may need to restart the kernel to use updated packages.\n",
      "Requirement already satisfied: openai in ./csc306.venv/lib/python3.12/site-packages (1.65.5)\n",
      "Requirement already satisfied: anyio<5,>=3.5.0 in ./csc306.venv/lib/python3.12/site-packages (from openai) (4.8.0)\n",
      "Requirement already satisfied: distro<2,>=1.7.0 in ./csc306.venv/lib/python3.12/site-packages (from openai) (1.9.0)\n",
      "Requirement already satisfied: httpx<1,>=0.23.0 in ./csc306.venv/lib/python3.12/site-packages (from openai) (0.28.1)\n",
      "Requirement already satisfied: jiter<1,>=0.4.0 in ./csc306.venv/lib/python3.12/site-packages (from openai) (0.8.2)\n",
      "Requirement already satisfied: pydantic<3,>=1.9.0 in ./csc306.venv/lib/python3.12/site-packages (from openai) (2.10.6)\n",
      "Requirement already satisfied: sniffio in ./csc306.venv/lib/python3.12/site-packages (from openai) (1.3.1)\n",
      "Requirement already satisfied: tqdm>4 in ./csc306.venv/lib/python3.12/site-packages (from openai) (4.67.1)\n",
      "Requirement already satisfied: typing-extensions<5,>=4.11 in ./csc306.venv/lib/python3.12/site-packages (from openai) (4.12.2)\n",
      "Requirement already satisfied: idna>=2.8 in ./csc306.venv/lib/python3.12/site-packages (from anyio<5,>=3.5.0->openai) (3.10)\n",
      "Requirement already satisfied: certifi in ./csc306.venv/lib/python3.12/site-packages (from httpx<1,>=0.23.0->openai) (2025.1.31)\n",
      "Requirement already satisfied: httpcore==1.* in ./csc306.venv/lib/python3.12/site-packages (from httpx<1,>=0.23.0->openai) (1.0.7)\n",
      "Requirement already satisfied: h11<0.15,>=0.13 in ./csc306.venv/lib/python3.12/site-packages (from httpcore==1.*->httpx<1,>=0.23.0->openai) (0.14.0)\n",
      "Requirement already satisfied: annotated-types>=0.6.0 in ./csc306.venv/lib/python3.12/site-packages (from pydantic<3,>=1.9.0->openai) (0.7.0)\n",
      "Requirement already satisfied: pydantic-core==2.27.2 in ./csc306.venv/lib/python3.12/site-packages (from pydantic<3,>=1.9.0->openai) (2.27.2)\n",
      "\n",
      "\u001b[1m[\u001b[0m\u001b[34;49mnotice\u001b[0m\u001b[1;39;49m]\u001b[0m\u001b[39;49m A new release of pip is available: \u001b[0m\u001b[31;49m24.2\u001b[0m\u001b[39;49m -> \u001b[0m\u001b[32;49m25.0.1\u001b[0m\n",
      "\u001b[1m[\u001b[0m\u001b[34;49mnotice\u001b[0m\u001b[1;39;49m]\u001b[0m\u001b[39;49m To update, run: \u001b[0m\u001b[32;49mpip install --upgrade pip\u001b[0m\n",
      "Note: you may need to restart the kernel to use updated packages.\n",
      "Requirement already satisfied: scikit-learn in ./csc306.venv/lib/python3.12/site-packages (1.6.1)\n",
      "Requirement already satisfied: numpy>=1.19.5 in ./csc306.venv/lib/python3.12/site-packages (from scikit-learn) (2.2.3)\n",
      "Requirement already satisfied: scipy>=1.6.0 in ./csc306.venv/lib/python3.12/site-packages (from scikit-learn) (1.15.2)\n",
      "Requirement already satisfied: joblib>=1.2.0 in ./csc306.venv/lib/python3.12/site-packages (from scikit-learn) (1.4.2)\n",
      "Requirement already satisfied: threadpoolctl>=3.1.0 in ./csc306.venv/lib/python3.12/site-packages (from scikit-learn) (3.5.0)\n",
      "\n",
      "\u001b[1m[\u001b[0m\u001b[34;49mnotice\u001b[0m\u001b[1;39;49m]\u001b[0m\u001b[39;49m A new release of pip is available: \u001b[0m\u001b[31;49m24.2\u001b[0m\u001b[39;49m -> \u001b[0m\u001b[32;49m25.0.1\u001b[0m\n",
      "\u001b[1m[\u001b[0m\u001b[34;49mnotice\u001b[0m\u001b[1;39;49m]\u001b[0m\u001b[39;49m To update, run: \u001b[0m\u001b[32;49mpip install --upgrade pip\u001b[0m\n",
      "Note: you may need to restart the kernel to use updated packages.\n"
     ]
    }
   ],
   "source": [
    "\n",
    "%pip install databench-eval\n",
    "%pip install pandas\n",
    "%pip install datasets\n",
    "%pip install tqdm\n",
    "%pip install dotenv\n",
    "%pip install rich\n",
    "%pip install openai\n",
    "%pip install --upgrade openai \n",
    "%pip install scikit-learn"
   ]
  },
  {
   "cell_type": "code",
   "execution_count": 2,
   "id": "18d8ca3c",
   "metadata": {},
   "outputs": [
    {
     "name": "stderr",
     "output_type": "stream",
     "text": [
      "/Users/kurtik/Union College/WINTER 25/CSC306/CSC-306-Proj4/csc306.venv/lib/python3.12/site-packages/tqdm/auto.py:21: TqdmWarning: IProgress not found. Please update jupyter and ipywidgets. See https://ipywidgets.readthedocs.io/en/stable/user_install.html\n",
      "  from .autonotebook import tqdm as notebook_tqdm\n"
     ]
    }
   ],
   "source": [
    "\n",
    "import openai\n",
    "import pandas as pd\n",
    "import numpy as np\n",
    "import subprocess\n",
    "import shlex\n",
    "import zipfile\n",
    "from rich import print\n",
    "\n",
    "from datasets import Dataset\n",
    "from databench_eval import Runner, Evaluator"
   ]
  },
  {
   "cell_type": "code",
   "execution_count": 3,
   "id": "af9d228c",
   "metadata": {},
   "outputs": [],
   "source": [
    "# Load the main QA data from three .txt files into a DataFrame\n",
    "qa_df = pd.DataFrame()\n",
    "\n",
    "# Read the answers from the .txt files into separate lists\n",
    "with open(\"answers/answers.txt\", \"r\") as f:\n",
    "    answers = f.read().splitlines()\n",
    "\n",
    "with open(\"answers/answers_lite.txt\", \"r\") as f:\n",
    "    sample_answers = f.read().splitlines()\n",
    "\n",
    "with open(\"answers/semantics.txt\", \"r\") as f:\n",
    "    semantics = f.read().splitlines()\n",
    "\n",
    "# Combine the lists into a DataFrame\n",
    "\n",
    "# Load the dataset column from the specified file\n",
    "qa_df = pd.read_csv(\n",
    "    \"competition/test_qa.csv\" # file provided in the competition\n",
    ")\n",
    "qa_df[\"answer\"] = answers\n",
    "qa_df[\"sample_answer\"] = sample_answers\n",
    "qa_df[\"type\"] = semantics\n",
    "\n",
    "\n",
    "# Convert to Dataset\n",
    "qa = Dataset.from_pandas(qa_df.head(100))\n",
    "evaluator = Evaluator(qa=qa)\n",
    "\n",
    "# print(answers)\n",
    "# print(sample_answers)\n",
    "# print(semantics[:5])"
   ]
  },
  {
   "cell_type": "code",
   "execution_count": 4,
   "id": "e8d3c164",
   "metadata": {},
   "outputs": [],
   "source": [
    "from zero_shot_incontext_learning import ZeroShotModel\n",
    "from code_based_learning import CodeBasedModel\n",
    "import os\n",
    "from dotenv import load_dotenv\n",
    "\n",
    "# Load environment variables from .env file\n",
    "load_dotenv()\n",
    "\n",
    "# Get the OpenAI API key from the environment variable\n",
    "api_key = os.getenv(\"OPENAI_API_KEY\")\n",
    "\n",
    "\n"
   ]
  },
  {
   "cell_type": "code",
   "execution_count": 5,
   "id": "30e38f65",
   "metadata": {},
   "outputs": [
    {
     "data": {
      "text/html": [
       "<pre style=\"white-space:pre;overflow-x:auto;line-height:normal;font-family:Menlo,'DejaVu Sans Mono',consolas,'Courier New',monospace\"><span style=\"font-weight: bold\">{</span>\n",
       "    <span style=\"color: #008000; text-decoration-color: #008000\">\"answer\"</span>: <span style=\"color: #008000; text-decoration-color: #008000\">\"Switzerland\"</span>,\n",
       "    <span style=\"color: #008000; text-decoration-color: #008000\">\"columns_used\"</span>: <span style=\"font-weight: bold\">[</span><span style=\"color: #008000; text-decoration-color: #008000\">\"Country\"</span>, <span style=\"color: #008000; text-decoration-color: #008000\">\"Cost of Living Index\"</span><span style=\"font-weight: bold\">]</span>,\n",
       "    <span style=\"color: #008000; text-decoration-color: #008000\">\"explanation\"</span>: <span style=\"color: #008000; text-decoration-color: #008000\">\"The most expensive city is determined by the highest Cost of Living Index, which is Switzerland</span>\n",
       "<span style=\"color: #008000; text-decoration-color: #008000\">with a value of 101.1.\"</span>\n",
       "<span style=\"font-weight: bold\">}</span>\n",
       "</pre>\n"
      ],
      "text/plain": [
       "\u001b[1m{\u001b[0m\n",
       "    \u001b[32m\"answer\"\u001b[0m: \u001b[32m\"Switzerland\"\u001b[0m,\n",
       "    \u001b[32m\"columns_used\"\u001b[0m: \u001b[1m[\u001b[0m\u001b[32m\"Country\"\u001b[0m, \u001b[32m\"Cost of Living Index\"\u001b[0m\u001b[1m]\u001b[0m,\n",
       "    \u001b[32m\"explanation\"\u001b[0m: \u001b[32m\"The most expensive city is determined by the highest Cost of Living Index, which is Switzerland\u001b[0m\n",
       "\u001b[32mwith a value of 101.1.\"\u001b[0m\n",
       "\u001b[1m}\u001b[0m\n"
      ]
     },
     "metadata": {},
     "output_type": "display_data"
    }
   ],
   "source": [
    "# Create model instance using the API key set in the environment variable\n",
    "zero_shot = ZeroShotModel(api_key=api_key)\n",
    "    \n",
    "# Ask a question about a dataset\n",
    "dataset_name = \"071_COL\"\n",
    "question = \"What is the most expensive city in this dataset?\"\n",
    "\n",
    "response = zero_shot.ask_question(dataset_name, question)\n",
    "print(response)"
   ]
  },
  {
   "cell_type": "code",
   "execution_count": 6,
   "id": "c23d8e98",
   "metadata": {},
   "outputs": [
    {
     "name": "stdout",
     "output_type": "stream",
     "text": [
      "\n",
      " Generated Code:\n",
      " ```json\n",
      "{\n",
      "    \"answer\": \"Switzerland\",\n",
      "    \"columns_used\": [\"Country\", \"Cost of Living Index\"],\n",
      "    \"explanation\": \"The most expensive city is determined by the highest Cost of Living Index value in the dataset.\"\n",
      "}\n",
      "```\n"
     ]
    },
    {
     "data": {
      "text/html": [
       "<pre style=\"white-space:pre;overflow-x:auto;line-height:normal;font-family:Menlo,'DejaVu Sans Mono',consolas,'Courier New',monospace\">Error executing code: invalid syntax <span style=\"font-weight: bold\">(&lt;</span><span style=\"color: #ff00ff; text-decoration-color: #ff00ff; font-weight: bold\">string</span><span style=\"font-weight: bold\">&gt;</span>, line <span style=\"color: #008080; text-decoration-color: #008080; font-weight: bold\">1</span><span style=\"font-weight: bold\">)</span>\n",
       "</pre>\n"
      ],
      "text/plain": [
       "Error executing code: invalid syntax \u001b[1m(\u001b[0m\u001b[1m<\u001b[0m\u001b[1;95mstring\u001b[0m\u001b[1m>\u001b[0m, line \u001b[1;36m1\u001b[0m\u001b[1m)\u001b[0m\n"
      ]
     },
     "metadata": {},
     "output_type": "display_data"
    }
   ],
   "source": [
    "# Create model instance using the API key set in the environment variable\n",
    "code_based = CodeBasedModel(api_key=api_key)\n",
    "    \n",
    "# Ask a question about a dataset\n",
    "dataset_name = \"071_COL\"\n",
    "question = \"What is the most expensive city in this dataset?\"\n",
    "\n",
    "response = code_based.ask_question(dataset_name, question)\n",
    "print(response)"
   ]
  },
  {
   "cell_type": "code",
   "execution_count": 7,
   "id": "7a1a1f69",
   "metadata": {},
   "outputs": [],
   "source": [
    "\n",
    "# Read the CSV file\n",
    "qa_df = pd.read_csv(\"competition/test_qa.csv\")\n",
    "\n",
    "# Initialize an empty list to store the arrays\n",
    "qa_list = []\n",
    "\n",
    "# Iterate through each row in the DataFrame\n",
    "for index, row in qa_df.iterrows():\n",
    "    # Create an array with the question and respective file\n",
    "    qa_array = [row['question'], row['dataset']]\n",
    "    # Append the array to the list\n",
    "    qa_list.append(qa_array)\n",
    "\n",
    "# print(qa_list)"
   ]
  },
  {
   "cell_type": "code",
   "execution_count": 8,
   "id": "f73ebf79",
   "metadata": {},
   "outputs": [],
   "source": [
    "from tqdm import tqdm\n",
    "import json\n",
    "\n",
    "\n",
    "def get_predictions(qa_list, model):\n",
    "    y_pred = []\n",
    "    for row in tqdm(qa_list[:10], desc=\"Processing\"):\n",
    "        question = row[0]\n",
    "        dataset_name = row[1]\n",
    "        response = model.ask_question(dataset_name, question)\n",
    "        try:\n",
    "            response_json = json.loads(response)\n",
    "            print(response_json)\n",
    "            y_pred.append(response_json[\"answer\"])\n",
    "        except json.JSONDecodeError:\n",
    "            y_pred.append(\"Error\")\n",
    "    return y_pred\n",
    "\n",
    "\n"
   ]
  },
  {
   "cell_type": "code",
   "execution_count": 9,
   "id": "64b12315",
   "metadata": {},
   "outputs": [],
   "source": [
    "def normalize_answers(y_pred):\n",
    "    for i in range(len(y_pred)):\n",
    "        if y_pred[i] == \"Yes\":\n",
    "            y_pred[i] = \"True\"\n",
    "        elif y_pred[i] == \"No\":\n",
    "            y_pred[i] = \"False\"\n",
    "    return y_pred\n"
   ]
  },
  {
   "cell_type": "code",
   "execution_count": 10,
   "id": "85051317",
   "metadata": {},
   "outputs": [
    {
     "name": "stderr",
     "output_type": "stream",
     "text": [
      "Processing:   0%|          | 0/10 [00:00<?, ?it/s]"
     ]
    },
    {
     "data": {
      "text/html": [
       "<pre style=\"white-space:pre;overflow-x:auto;line-height:normal;font-family:Menlo,'DejaVu Sans Mono',consolas,'Courier New',monospace\"><span style=\"font-weight: bold\">{</span>\n",
       "    <span style=\"color: #008000; text-decoration-color: #008000\">'answer'</span>: <span style=\"color: #008000; text-decoration-color: #008000\">'No'</span>,\n",
       "    <span style=\"color: #008000; text-decoration-color: #008000\">'columns_used'</span>: <span style=\"font-weight: bold\">[</span><span style=\"color: #008000; text-decoration-color: #008000\">'Age'</span><span style=\"font-weight: bold\">]</span>,\n",
       "    <span style=\"color: #008000; text-decoration-color: #008000\">'explanation'</span>: <span style=\"color: #008000; text-decoration-color: #008000\">'The average age of employees in the dataset is calculated to be approximately 35.65, which is </span>\n",
       "<span style=\"color: #008000; text-decoration-color: #008000\">less than 35. Therefore, the average employee is not older than 35.'</span>\n",
       "<span style=\"font-weight: bold\">}</span>\n",
       "</pre>\n"
      ],
      "text/plain": [
       "\u001b[1m{\u001b[0m\n",
       "    \u001b[32m'answer'\u001b[0m: \u001b[32m'No'\u001b[0m,\n",
       "    \u001b[32m'columns_used'\u001b[0m: \u001b[1m[\u001b[0m\u001b[32m'Age'\u001b[0m\u001b[1m]\u001b[0m,\n",
       "    \u001b[32m'explanation'\u001b[0m: \u001b[32m'The average age of employees in the dataset is calculated to be approximately 35.65, which is \u001b[0m\n",
       "\u001b[32mless than 35. Therefore, the average employee is not older than 35.'\u001b[0m\n",
       "\u001b[1m}\u001b[0m\n"
      ]
     },
     "metadata": {},
     "output_type": "display_data"
    },
    {
     "name": "stderr",
     "output_type": "stream",
     "text": [
      "Processing:  10%|█         | 1/10 [00:00<00:06,  1.44it/s]"
     ]
    },
    {
     "data": {
      "text/html": [
       "<pre style=\"white-space:pre;overflow-x:auto;line-height:normal;font-family:Menlo,'DejaVu Sans Mono',consolas,'Courier New',monospace\"><span style=\"font-weight: bold\">{</span>\n",
       "    <span style=\"color: #008000; text-decoration-color: #008000\">'answer'</span>: <span style=\"color: #008000; text-decoration-color: #008000\">'Yes'</span>,\n",
       "    <span style=\"color: #008000; text-decoration-color: #008000\">'columns_used'</span>: <span style=\"font-weight: bold\">[</span><span style=\"color: #008000; text-decoration-color: #008000\">'BusinessTravel'</span><span style=\"font-weight: bold\">]</span>,\n",
       "    <span style=\"color: #008000; text-decoration-color: #008000\">'explanation'</span>: <span style=\"color: #008000; text-decoration-color: #008000\">\"The most frequent travel value is 'Travel_Rarely' as it appears in the dataset more often </span>\n",
       "<span style=\"color: #008000; text-decoration-color: #008000\">compared to other travel values.\"</span>\n",
       "<span style=\"font-weight: bold\">}</span>\n",
       "</pre>\n"
      ],
      "text/plain": [
       "\u001b[1m{\u001b[0m\n",
       "    \u001b[32m'answer'\u001b[0m: \u001b[32m'Yes'\u001b[0m,\n",
       "    \u001b[32m'columns_used'\u001b[0m: \u001b[1m[\u001b[0m\u001b[32m'BusinessTravel'\u001b[0m\u001b[1m]\u001b[0m,\n",
       "    \u001b[32m'explanation'\u001b[0m: \u001b[32m\"The most frequent travel value is 'Travel_Rarely' as it appears in the dataset more often \u001b[0m\n",
       "\u001b[32mcompared to other travel values.\"\u001b[0m\n",
       "\u001b[1m}\u001b[0m\n"
      ]
     },
     "metadata": {},
     "output_type": "display_data"
    },
    {
     "name": "stderr",
     "output_type": "stream",
     "text": [
      "Processing:  20%|██        | 2/10 [00:01<00:05,  1.51it/s]"
     ]
    },
    {
     "data": {
      "text/html": [
       "<pre style=\"white-space:pre;overflow-x:auto;line-height:normal;font-family:Menlo,'DejaVu Sans Mono',consolas,'Courier New',monospace\"><span style=\"font-weight: bold\">{</span>\n",
       "    <span style=\"color: #008000; text-decoration-color: #008000\">'answer'</span>: <span style=\"color: #008000; text-decoration-color: #008000\">'No'</span>,\n",
       "    <span style=\"color: #008000; text-decoration-color: #008000\">'columns_used'</span>: <span style=\"font-weight: bold\">[</span><span style=\"color: #008000; text-decoration-color: #008000\">'DailyRate'</span><span style=\"font-weight: bold\">]</span>,\n",
       "    <span style=\"color: #008000; text-decoration-color: #008000\">'explanation'</span>: <span style=\"color: #008000; text-decoration-color: #008000\">'The highest DailyRate in the dataset is 1392, which is less than 1499. Therefore, the highest </span>\n",
       "<span style=\"color: #008000; text-decoration-color: #008000\">DailyRate is not equal to 1499.'</span>\n",
       "<span style=\"font-weight: bold\">}</span>\n",
       "</pre>\n"
      ],
      "text/plain": [
       "\u001b[1m{\u001b[0m\n",
       "    \u001b[32m'answer'\u001b[0m: \u001b[32m'No'\u001b[0m,\n",
       "    \u001b[32m'columns_used'\u001b[0m: \u001b[1m[\u001b[0m\u001b[32m'DailyRate'\u001b[0m\u001b[1m]\u001b[0m,\n",
       "    \u001b[32m'explanation'\u001b[0m: \u001b[32m'The highest DailyRate in the dataset is 1392, which is less than 1499. Therefore, the highest \u001b[0m\n",
       "\u001b[32mDailyRate is not equal to 1499.'\u001b[0m\n",
       "\u001b[1m}\u001b[0m\n"
      ]
     },
     "metadata": {},
     "output_type": "display_data"
    },
    {
     "name": "stderr",
     "output_type": "stream",
     "text": [
      "Processing:  30%|███       | 3/10 [00:02<00:04,  1.49it/s]"
     ]
    },
    {
     "data": {
      "text/html": [
       "<pre style=\"white-space:pre;overflow-x:auto;line-height:normal;font-family:Menlo,'DejaVu Sans Mono',consolas,'Courier New',monospace\"><span style=\"font-weight: bold\">{</span>\n",
       "    <span style=\"color: #008000; text-decoration-color: #008000\">'answer'</span>: <span style=\"color: #008000; text-decoration-color: #008000\">'No'</span>,\n",
       "    <span style=\"color: #008000; text-decoration-color: #008000\">'columns_used'</span>: <span style=\"font-weight: bold\">[</span><span style=\"color: #008000; text-decoration-color: #008000\">'DailyRate'</span><span style=\"font-weight: bold\">]</span>,\n",
       "    <span style=\"color: #008000; text-decoration-color: #008000\">'explanation'</span>: <span style=\"color: #008000; text-decoration-color: #008000\">'The highest DailyRate in the dataset is 1392, which is a positive value. Therefore, the highest</span>\n",
       "<span style=\"color: #008000; text-decoration-color: #008000\">DailyRate is not negative.'</span>\n",
       "<span style=\"font-weight: bold\">}</span>\n",
       "</pre>\n"
      ],
      "text/plain": [
       "\u001b[1m{\u001b[0m\n",
       "    \u001b[32m'answer'\u001b[0m: \u001b[32m'No'\u001b[0m,\n",
       "    \u001b[32m'columns_used'\u001b[0m: \u001b[1m[\u001b[0m\u001b[32m'DailyRate'\u001b[0m\u001b[1m]\u001b[0m,\n",
       "    \u001b[32m'explanation'\u001b[0m: \u001b[32m'The highest DailyRate in the dataset is 1392, which is a positive value. Therefore, the highest\u001b[0m\n",
       "\u001b[32mDailyRate is not negative.'\u001b[0m\n",
       "\u001b[1m}\u001b[0m\n"
      ]
     },
     "metadata": {},
     "output_type": "display_data"
    },
    {
     "name": "stderr",
     "output_type": "stream",
     "text": [
      "Processing:  40%|████      | 4/10 [00:09<00:19,  3.22s/it]"
     ]
    },
    {
     "data": {
      "text/html": [
       "<pre style=\"white-space:pre;overflow-x:auto;line-height:normal;font-family:Menlo,'DejaVu Sans Mono',consolas,'Courier New',monospace\"><span style=\"font-weight: bold\">{</span>\n",
       "    <span style=\"color: #008000; text-decoration-color: #008000\">'answer'</span>: <span style=\"color: #008000; text-decoration-color: #008000\">'No'</span>,\n",
       "    <span style=\"color: #008000; text-decoration-color: #008000\">'columns_used'</span>: <span style=\"font-weight: bold\">[</span><span style=\"color: #008000; text-decoration-color: #008000\">'Department'</span>, <span style=\"color: #008000; text-decoration-color: #008000\">'EmployeeCount'</span><span style=\"font-weight: bold\">]</span>,\n",
       "    <span style=\"color: #008000; text-decoration-color: #008000\">'explanation'</span>: <span style=\"color: #008000; text-decoration-color: #008000\">'The EmployeeCount column indicates the number of employees in each department. By comparing the</span>\n",
       "<span style=\"color: #008000; text-decoration-color: #008000\">EmployeeCount for the Research &amp; Development department and the Sales department, we can see that the Research &amp; </span>\n",
       "<span style=\"color: #008000; text-decoration-color: #008000\">Development department is not bigger than the Sales department.'</span>\n",
       "<span style=\"font-weight: bold\">}</span>\n",
       "</pre>\n"
      ],
      "text/plain": [
       "\u001b[1m{\u001b[0m\n",
       "    \u001b[32m'answer'\u001b[0m: \u001b[32m'No'\u001b[0m,\n",
       "    \u001b[32m'columns_used'\u001b[0m: \u001b[1m[\u001b[0m\u001b[32m'Department'\u001b[0m, \u001b[32m'EmployeeCount'\u001b[0m\u001b[1m]\u001b[0m,\n",
       "    \u001b[32m'explanation'\u001b[0m: \u001b[32m'The EmployeeCount column indicates the number of employees in each department. By comparing the\u001b[0m\n",
       "\u001b[32mEmployeeCount for the Research & Development department and the Sales department, we can see that the Research & \u001b[0m\n",
       "\u001b[32mDevelopment department is not bigger than the Sales department.'\u001b[0m\n",
       "\u001b[1m}\u001b[0m\n"
      ]
     },
     "metadata": {},
     "output_type": "display_data"
    },
    {
     "name": "stderr",
     "output_type": "stream",
     "text": [
      "Processing:  50%|█████     | 5/10 [00:09<00:11,  2.36s/it]"
     ]
    },
    {
     "data": {
      "text/html": [
       "<pre style=\"white-space:pre;overflow-x:auto;line-height:normal;font-family:Menlo,'DejaVu Sans Mono',consolas,'Courier New',monospace\"><span style=\"font-weight: bold\">{</span>\n",
       "    <span style=\"color: #008000; text-decoration-color: #008000\">'answer'</span>: <span style=\"color: #008000; text-decoration-color: #008000\">'Yes'</span>,\n",
       "    <span style=\"color: #008000; text-decoration-color: #008000\">'columns_used'</span>: <span style=\"font-weight: bold\">[</span><span style=\"color: #008000; text-decoration-color: #008000\">'PerformanceRating'</span><span style=\"font-weight: bold\">]</span>,\n",
       "    <span style=\"color: #008000; text-decoration-color: #008000\">'explanation'</span>: <span style=\"color: #008000; text-decoration-color: #008000\">\"The highest rating given to any performance in the dataset is 4, as indicated in the </span>\n",
       "<span style=\"color: #008000; text-decoration-color: #008000\">'PerformanceRating' column where the maximum value is 4.\"</span>\n",
       "<span style=\"font-weight: bold\">}</span>\n",
       "</pre>\n"
      ],
      "text/plain": [
       "\u001b[1m{\u001b[0m\n",
       "    \u001b[32m'answer'\u001b[0m: \u001b[32m'Yes'\u001b[0m,\n",
       "    \u001b[32m'columns_used'\u001b[0m: \u001b[1m[\u001b[0m\u001b[32m'PerformanceRating'\u001b[0m\u001b[1m]\u001b[0m,\n",
       "    \u001b[32m'explanation'\u001b[0m: \u001b[32m\"The highest rating given to any performance in the dataset is 4, as indicated in the \u001b[0m\n",
       "\u001b[32m'PerformanceRating' column where the maximum value is 4.\"\u001b[0m\n",
       "\u001b[1m}\u001b[0m\n"
      ]
     },
     "metadata": {},
     "output_type": "display_data"
    },
    {
     "name": "stderr",
     "output_type": "stream",
     "text": [
      "Processing:  60%|██████    | 6/10 [00:10<00:07,  1.80s/it]"
     ]
    },
    {
     "data": {
      "text/html": [
       "<pre style=\"white-space:pre;overflow-x:auto;line-height:normal;font-family:Menlo,'DejaVu Sans Mono',consolas,'Courier New',monospace\"><span style=\"font-weight: bold\">{</span>\n",
       "    <span style=\"color: #008000; text-decoration-color: #008000\">'answer'</span>: <span style=\"color: #008000; text-decoration-color: #008000\">'Yes'</span>,\n",
       "    <span style=\"color: #008000; text-decoration-color: #008000\">'columns_used'</span>: <span style=\"font-weight: bold\">[</span><span style=\"color: #008000; text-decoration-color: #008000\">'BusinessTravel'</span>, <span style=\"color: #008000; text-decoration-color: #008000\">'Department'</span><span style=\"font-weight: bold\">]</span>,\n",
       "    <span style=\"color: #008000; text-decoration-color: #008000\">'explanation'</span>: <span style=\"color: #008000; text-decoration-color: #008000\">'By comparing the count of employees who travel frequently (Travel_Frequently) with the count of</span>\n",
       "<span style=\"color: #008000; text-decoration-color: #008000\">employees working in the HR department (Human Resources), we find that there are more employees who travel </span>\n",
       "<span style=\"color: #008000; text-decoration-color: #008000\">frequently.'</span>\n",
       "<span style=\"font-weight: bold\">}</span>\n",
       "</pre>\n"
      ],
      "text/plain": [
       "\u001b[1m{\u001b[0m\n",
       "    \u001b[32m'answer'\u001b[0m: \u001b[32m'Yes'\u001b[0m,\n",
       "    \u001b[32m'columns_used'\u001b[0m: \u001b[1m[\u001b[0m\u001b[32m'BusinessTravel'\u001b[0m, \u001b[32m'Department'\u001b[0m\u001b[1m]\u001b[0m,\n",
       "    \u001b[32m'explanation'\u001b[0m: \u001b[32m'By comparing the count of employees who travel frequently \u001b[0m\u001b[32m(\u001b[0m\u001b[32mTravel_Frequently\u001b[0m\u001b[32m)\u001b[0m\u001b[32m with the count of\u001b[0m\n",
       "\u001b[32memployees working in the HR department \u001b[0m\u001b[32m(\u001b[0m\u001b[32mHuman Resources\u001b[0m\u001b[32m)\u001b[0m\u001b[32m, we find that there are more employees who travel \u001b[0m\n",
       "\u001b[32mfrequently.'\u001b[0m\n",
       "\u001b[1m}\u001b[0m\n"
      ]
     },
     "metadata": {},
     "output_type": "display_data"
    },
    {
     "name": "stderr",
     "output_type": "stream",
     "text": [
      "Processing:  70%|███████   | 7/10 [00:11<00:04,  1.47s/it]"
     ]
    },
    {
     "data": {
      "text/html": [
       "<pre style=\"white-space:pre;overflow-x:auto;line-height:normal;font-family:Menlo,'DejaVu Sans Mono',consolas,'Courier New',monospace\"><span style=\"font-weight: bold\">{</span>\n",
       "    <span style=\"color: #008000; text-decoration-color: #008000\">'answer'</span>: <span style=\"color: #008000; text-decoration-color: #008000\">'Yes'</span>,\n",
       "    <span style=\"color: #008000; text-decoration-color: #008000\">'columns_used'</span>: <span style=\"font-weight: bold\">[</span><span style=\"color: #008000; text-decoration-color: #008000\">'Attrition'</span>, <span style=\"color: #008000; text-decoration-color: #008000\">'MonthlyIncome'</span><span style=\"font-weight: bold\">]</span>,\n",
       "    <span style=\"color: #008000; text-decoration-color: #008000\">'explanation'</span>: <span style=\"color: #008000; text-decoration-color: #008000\">'The average MonthlyIncome of employees who have experienced attrition is lower than those who </span>\n",
       "<span style=\"color: #008000; text-decoration-color: #008000\">have not experienced attrition. This suggests that attrition may have a negative impact on MonthlyIncome.'</span>\n",
       "<span style=\"font-weight: bold\">}</span>\n",
       "</pre>\n"
      ],
      "text/plain": [
       "\u001b[1m{\u001b[0m\n",
       "    \u001b[32m'answer'\u001b[0m: \u001b[32m'Yes'\u001b[0m,\n",
       "    \u001b[32m'columns_used'\u001b[0m: \u001b[1m[\u001b[0m\u001b[32m'Attrition'\u001b[0m, \u001b[32m'MonthlyIncome'\u001b[0m\u001b[1m]\u001b[0m,\n",
       "    \u001b[32m'explanation'\u001b[0m: \u001b[32m'The average MonthlyIncome of employees who have experienced attrition is lower than those who \u001b[0m\n",
       "\u001b[32mhave not experienced attrition. This suggests that attrition may have a negative impact on MonthlyIncome.'\u001b[0m\n",
       "\u001b[1m}\u001b[0m\n"
      ]
     },
     "metadata": {},
     "output_type": "display_data"
    },
    {
     "name": "stderr",
     "output_type": "stream",
     "text": [
      "Processing:  80%|████████  | 8/10 [00:13<00:03,  1.52s/it]"
     ]
    },
    {
     "data": {
      "text/html": [
       "<pre style=\"white-space:pre;overflow-x:auto;line-height:normal;font-family:Menlo,'DejaVu Sans Mono',consolas,'Courier New',monospace\"><span style=\"font-weight: bold\">{</span>\n",
       "    <span style=\"color: #008000; text-decoration-color: #008000\">'answer'</span>: <span style=\"color: #008000; text-decoration-color: #008000\">'Yes'</span>,\n",
       "    <span style=\"color: #008000; text-decoration-color: #008000\">'columns_used'</span>: <span style=\"font-weight: bold\">[</span><span style=\"color: #008000; text-decoration-color: #008000\">'StandardHours'</span><span style=\"font-weight: bold\">]</span>,\n",
       "    <span style=\"color: #008000; text-decoration-color: #008000\">'explanation'</span>: <span style=\"color: #008000; text-decoration-color: #008000\">\"The 'StandardHours' column indicates the standard number of working hours for all employees, </span>\n",
       "<span style=\"color: #008000; text-decoration-color: #008000\">and it has the same value (80) for all employees in the dataset. Therefore, the standard number of working hours is</span>\n",
       "<span style=\"color: #008000; text-decoration-color: #008000\">the same across all employees.\"</span>\n",
       "<span style=\"font-weight: bold\">}</span>\n",
       "</pre>\n"
      ],
      "text/plain": [
       "\u001b[1m{\u001b[0m\n",
       "    \u001b[32m'answer'\u001b[0m: \u001b[32m'Yes'\u001b[0m,\n",
       "    \u001b[32m'columns_used'\u001b[0m: \u001b[1m[\u001b[0m\u001b[32m'StandardHours'\u001b[0m\u001b[1m]\u001b[0m,\n",
       "    \u001b[32m'explanation'\u001b[0m: \u001b[32m\"The 'StandardHours' column indicates the standard number of working hours for all employees, \u001b[0m\n",
       "\u001b[32mand it has the same value \u001b[0m\u001b[32m(\u001b[0m\u001b[32m80\u001b[0m\u001b[32m)\u001b[0m\u001b[32m for all employees in the dataset. Therefore, the standard number of working hours is\u001b[0m\n",
       "\u001b[32mthe same across all employees.\"\u001b[0m\n",
       "\u001b[1m}\u001b[0m\n"
      ]
     },
     "metadata": {},
     "output_type": "display_data"
    },
    {
     "name": "stderr",
     "output_type": "stream",
     "text": [
      "Processing:  90%|█████████ | 9/10 [00:13<00:01,  1.28s/it]"
     ]
    },
    {
     "data": {
      "text/html": [
       "<pre style=\"white-space:pre;overflow-x:auto;line-height:normal;font-family:Menlo,'DejaVu Sans Mono',consolas,'Courier New',monospace\"><span style=\"font-weight: bold\">{</span>\n",
       "    <span style=\"color: #008000; text-decoration-color: #008000\">'answer'</span>: <span style=\"color: #008000; text-decoration-color: #008000\">'Laboratory Technician'</span>,\n",
       "    <span style=\"color: #008000; text-decoration-color: #008000\">'columns_used'</span>: <span style=\"font-weight: bold\">[</span><span style=\"color: #008000; text-decoration-color: #008000\">'JobRole'</span><span style=\"font-weight: bold\">]</span>,\n",
       "    <span style=\"color: #008000; text-decoration-color: #008000\">'explanation'</span>: <span style=\"color: #008000; text-decoration-color: #008000\">\"The most common role in the dataset is 'Laboratory Technician' based on the frequency of </span>\n",
       "<span style=\"color: #008000; text-decoration-color: #008000\">occurrences in the 'JobRole' column.\"</span>\n",
       "<span style=\"font-weight: bold\">}</span>\n",
       "</pre>\n"
      ],
      "text/plain": [
       "\u001b[1m{\u001b[0m\n",
       "    \u001b[32m'answer'\u001b[0m: \u001b[32m'Laboratory Technician'\u001b[0m,\n",
       "    \u001b[32m'columns_used'\u001b[0m: \u001b[1m[\u001b[0m\u001b[32m'JobRole'\u001b[0m\u001b[1m]\u001b[0m,\n",
       "    \u001b[32m'explanation'\u001b[0m: \u001b[32m\"The most common role in the dataset is 'Laboratory Technician' based on the frequency of \u001b[0m\n",
       "\u001b[32moccurrences in the 'JobRole' column.\"\u001b[0m\n",
       "\u001b[1m}\u001b[0m\n"
      ]
     },
     "metadata": {},
     "output_type": "display_data"
    },
    {
     "name": "stderr",
     "output_type": "stream",
     "text": [
      "Processing: 100%|██████████| 10/10 [00:15<00:00,  1.52s/it]\n",
      "Processing:  10%|█         | 1/10 [00:01<00:10,  1.18s/it]"
     ]
    },
    {
     "name": "stdout",
     "output_type": "stream",
     "text": [
      "\n",
      " Generated Code:\n",
      " ```json\n",
      "{\n",
      "    \"answer\": \"Yes\",\n",
      "    \"columns_used\": [\"Age\"],\n",
      "    \"explanation\": \"We calculated the average age of employees in the dataset and compared it to 35. The average age is greater than 35, indicating that our average employee is older than 35.\"\n",
      "}\n",
      "```\n"
     ]
    },
    {
     "name": "stderr",
     "output_type": "stream",
     "text": [
      "Processing:  20%|██        | 2/10 [00:02<00:07,  1.02it/s]"
     ]
    },
    {
     "name": "stdout",
     "output_type": "stream",
     "text": [
      "\n",
      " Generated Code:\n",
      " ```json\n",
      "{\n",
      "    \"answer\": \"Yes\",\n",
      "    \"columns_used\": [\"BusinessTravel\"],\n",
      "    \"explanation\": \"The 'Travel_Rarely' value is the most frequent in the 'BusinessTravel' column, indicating that the most frequent travel value is rarely traveling.\"\n",
      "}\n",
      "```\n"
     ]
    },
    {
     "name": "stderr",
     "output_type": "stream",
     "text": [
      "Processing:  30%|███       | 3/10 [00:03<00:07,  1.02s/it]"
     ]
    },
    {
     "name": "stdout",
     "output_type": "stream",
     "text": [
      "\n",
      " Generated Code:\n",
      " ```python\n",
      "def answer(df):\n",
      "    highest_daily_rate = df['DailyRate'].max()\n",
      "    return str(highest_daily_rate == 1499)\n",
      "\n",
      "answer(df)\n",
      "```\n",
      "\n",
      "```json\n",
      "{\n",
      "    \"answer\": \"False\",\n",
      "    \"columns_used\": [\"DailyRate\"],\n",
      "    \"explanation\": \"The code extracts the 'DailyRate' column from the dataset and compares the highest value to 1499, returning False as the result.\"\n",
      "}\n",
      "```\n"
     ]
    },
    {
     "name": "stderr",
     "output_type": "stream",
     "text": [
      "Processing:  40%|████      | 4/10 [00:03<00:05,  1.13it/s]"
     ]
    },
    {
     "name": "stdout",
     "output_type": "stream",
     "text": [
      "\n",
      " Generated Code:\n",
      " ```json\n",
      "{\n",
      "    \"answer\": \"No\",\n",
      "    \"columns_used\": [\"DailyRate\"],\n",
      "    \"explanation\": \"The highest DailyRate in the dataset is not negative, as it represents a monetary value for each employee.\"\n",
      "}\n",
      "```\n"
     ]
    },
    {
     "name": "stderr",
     "output_type": "stream",
     "text": [
      "Processing:  50%|█████     | 5/10 [00:04<00:04,  1.18it/s]"
     ]
    },
    {
     "name": "stdout",
     "output_type": "stream",
     "text": [
      "\n",
      " Generated Code:\n",
      " ```json\n",
      "{\n",
      "    \"answer\": \"No\",\n",
      "    \"columns_used\": [\"Department\"],\n",
      "    \"explanation\": \"We compare the number of rows where Department is 'Research & Development' with the number of rows where Department is 'Sales'. The Research & Development department is not bigger than the Sales department in this dataset.\"\n",
      "}\n",
      "```\n"
     ]
    },
    {
     "name": "stderr",
     "output_type": "stream",
     "text": [
      "Processing:  60%|██████    | 6/10 [00:05<00:02,  1.34it/s]"
     ]
    },
    {
     "name": "stdout",
     "output_type": "stream",
     "text": [
      "\n",
      " Generated Code:\n",
      " ```json\n",
      "{\n",
      "    \"answer\": \"No\",\n",
      "    \"columns_used\": [\"PerformanceRating\"],\n",
      "    \"explanation\": \"The highest rating given to any performance is 3, not 4.\"\n",
      "}\n",
      "```\n"
     ]
    },
    {
     "name": "stderr",
     "output_type": "stream",
     "text": [
      "Processing:  70%|███████   | 7/10 [00:06<00:02,  1.11it/s]"
     ]
    },
    {
     "name": "stdout",
     "output_type": "stream",
     "text": [
      "\n",
      " Generated Code:\n",
      " ```json\n",
      "{\n",
      "    \"answer\": \"No\",\n",
      "    \"columns_used\": [\"BusinessTravel\", \"Department\"],\n",
      "    \"explanation\": \"We compare the count of employees who travel frequently (Travel_Frequently) with the count of employees in the HR department. There are more employees who travel frequently than those who work in the HR department.\"\n",
      "}\n",
      "```\n"
     ]
    },
    {
     "name": "stderr",
     "output_type": "stream",
     "text": [
      "Processing:  80%|████████  | 8/10 [00:07<00:01,  1.18it/s]"
     ]
    },
    {
     "name": "stdout",
     "output_type": "stream",
     "text": [
      "\n",
      " Generated Code:\n",
      " ```json\n",
      "{\n",
      "    \"answer\": \"Yes\",\n",
      "    \"columns_used\": [\"Attrition\", \"MonthlyIncome\"],\n",
      "    \"explanation\": \"The average MonthlyIncome of employees who experienced attrition is less than those who did not, indicating a potential impact of attrition on income levels.\"\n",
      "}\n",
      "```\n"
     ]
    },
    {
     "name": "stderr",
     "output_type": "stream",
     "text": [
      "Processing:  90%|█████████ | 9/10 [00:07<00:00,  1.20it/s]"
     ]
    },
    {
     "name": "stdout",
     "output_type": "stream",
     "text": [
      "\n",
      " Generated Code:\n",
      " ```json\n",
      "{\n",
      "    \"answer\": \"Yes\",\n",
      "    \"columns_used\": [\"StandardHours\"],\n",
      "    \"explanation\": \"The 'StandardHours' column represents the standard number of working hours for all employees, and since it has the same value for all rows in the dataset, the standard number of working hours is the same across all employees.\"\n",
      "}\n",
      "```\n"
     ]
    },
    {
     "name": "stderr",
     "output_type": "stream",
     "text": [
      "Processing: 100%|██████████| 10/10 [00:08<00:00,  1.18it/s]"
     ]
    },
    {
     "name": "stdout",
     "output_type": "stream",
     "text": [
      "\n",
      " Generated Code:\n",
      " ```json\n",
      "{\n",
      "    \"answer\": \"Laboratory Technician\",\n",
      "    \"columns_used\": [\"JobRole\"],\n",
      "    \"explanation\": \"The most common role in the dataset is 'Laboratory Technician' based on the frequency of occurrences in the 'JobRole' column.\"\n",
      "}\n",
      "```\n"
     ]
    },
    {
     "name": "stderr",
     "output_type": "stream",
     "text": [
      "\n"
     ]
    },
    {
     "data": {
      "text/html": [
       "<pre style=\"white-space:pre;overflow-x:auto;line-height:normal;font-family:Menlo,'DejaVu Sans Mono',consolas,'Courier New',monospace\">Predictions Zero shot:\n",
       "</pre>\n"
      ],
      "text/plain": [
       "Predictions Zero shot:\n"
      ]
     },
     "metadata": {},
     "output_type": "display_data"
    },
    {
     "data": {
      "text/html": [
       "<pre style=\"white-space:pre;overflow-x:auto;line-height:normal;font-family:Menlo,'DejaVu Sans Mono',consolas,'Courier New',monospace\"><span style=\"font-weight: bold\">[</span><span style=\"color: #008000; text-decoration-color: #008000\">'False'</span>, <span style=\"color: #008000; text-decoration-color: #008000\">'True'</span>, <span style=\"color: #008000; text-decoration-color: #008000\">'False'</span>, <span style=\"color: #008000; text-decoration-color: #008000\">'False'</span>, <span style=\"color: #008000; text-decoration-color: #008000\">'False'</span>, <span style=\"color: #008000; text-decoration-color: #008000\">'True'</span>, <span style=\"color: #008000; text-decoration-color: #008000\">'True'</span>, <span style=\"color: #008000; text-decoration-color: #008000\">'True'</span>, <span style=\"color: #008000; text-decoration-color: #008000\">'True'</span>, <span style=\"color: #008000; text-decoration-color: #008000\">'Laboratory Technician'</span><span style=\"font-weight: bold\">]</span>\n",
       "</pre>\n"
      ],
      "text/plain": [
       "\u001b[1m[\u001b[0m\u001b[32m'False'\u001b[0m, \u001b[32m'True'\u001b[0m, \u001b[32m'False'\u001b[0m, \u001b[32m'False'\u001b[0m, \u001b[32m'False'\u001b[0m, \u001b[32m'True'\u001b[0m, \u001b[32m'True'\u001b[0m, \u001b[32m'True'\u001b[0m, \u001b[32m'True'\u001b[0m, \u001b[32m'Laboratory Technician'\u001b[0m\u001b[1m]\u001b[0m\n"
      ]
     },
     "metadata": {},
     "output_type": "display_data"
    },
    {
     "data": {
      "text/html": [
       "<pre style=\"white-space:pre;overflow-x:auto;line-height:normal;font-family:Menlo,'DejaVu Sans Mono',consolas,'Courier New',monospace\">Predictions Code Based:\n",
       "</pre>\n"
      ],
      "text/plain": [
       "Predictions Code Based:\n"
      ]
     },
     "metadata": {},
     "output_type": "display_data"
    },
    {
     "data": {
      "text/html": [
       "<pre style=\"white-space:pre;overflow-x:auto;line-height:normal;font-family:Menlo,'DejaVu Sans Mono',consolas,'Courier New',monospace\"><span style=\"font-weight: bold\">[</span><span style=\"color: #008000; text-decoration-color: #008000\">'Error'</span>, <span style=\"color: #008000; text-decoration-color: #008000\">'Error'</span>, <span style=\"color: #008000; text-decoration-color: #008000\">'Error'</span>, <span style=\"color: #008000; text-decoration-color: #008000\">'Error'</span>, <span style=\"color: #008000; text-decoration-color: #008000\">'Error'</span>, <span style=\"color: #008000; text-decoration-color: #008000\">'Error'</span>, <span style=\"color: #008000; text-decoration-color: #008000\">'Error'</span>, <span style=\"color: #008000; text-decoration-color: #008000\">'Error'</span>, <span style=\"color: #008000; text-decoration-color: #008000\">'Error'</span>, <span style=\"color: #008000; text-decoration-color: #008000\">'Error'</span><span style=\"font-weight: bold\">]</span>\n",
       "</pre>\n"
      ],
      "text/plain": [
       "\u001b[1m[\u001b[0m\u001b[32m'Error'\u001b[0m, \u001b[32m'Error'\u001b[0m, \u001b[32m'Error'\u001b[0m, \u001b[32m'Error'\u001b[0m, \u001b[32m'Error'\u001b[0m, \u001b[32m'Error'\u001b[0m, \u001b[32m'Error'\u001b[0m, \u001b[32m'Error'\u001b[0m, \u001b[32m'Error'\u001b[0m, \u001b[32m'Error'\u001b[0m\u001b[1m]\u001b[0m\n"
      ]
     },
     "metadata": {},
     "output_type": "display_data"
    },
    {
     "data": {
      "text/html": [
       "<pre style=\"white-space:pre;overflow-x:auto;line-height:normal;font-family:Menlo,'DejaVu Sans Mono',consolas,'Courier New',monospace\">Sample Answers:\n",
       "</pre>\n"
      ],
      "text/plain": [
       "Sample Answers:\n"
      ]
     },
     "metadata": {},
     "output_type": "display_data"
    },
    {
     "data": {
      "text/html": [
       "<pre style=\"white-space:pre;overflow-x:auto;line-height:normal;font-family:Menlo,'DejaVu Sans Mono',consolas,'Courier New',monospace\"><span style=\"font-weight: bold\">[</span><span style=\"color: #008000; text-decoration-color: #008000\">'True'</span>, <span style=\"color: #008000; text-decoration-color: #008000\">'True'</span>, <span style=\"color: #008000; text-decoration-color: #008000\">'False'</span>, <span style=\"color: #008000; text-decoration-color: #008000\">'False'</span>, <span style=\"color: #008000; text-decoration-color: #008000\">'True'</span>, <span style=\"color: #008000; text-decoration-color: #008000\">'True'</span>, <span style=\"color: #008000; text-decoration-color: #008000\">'True'</span>, <span style=\"color: #008000; text-decoration-color: #008000\">'True'</span>, <span style=\"color: #008000; text-decoration-color: #008000\">'True'</span>, <span style=\"color: #008000; text-decoration-color: #008000\">'Laboratory Technician'</span><span style=\"font-weight: bold\">]</span>\n",
       "</pre>\n"
      ],
      "text/plain": [
       "\u001b[1m[\u001b[0m\u001b[32m'True'\u001b[0m, \u001b[32m'True'\u001b[0m, \u001b[32m'False'\u001b[0m, \u001b[32m'False'\u001b[0m, \u001b[32m'True'\u001b[0m, \u001b[32m'True'\u001b[0m, \u001b[32m'True'\u001b[0m, \u001b[32m'True'\u001b[0m, \u001b[32m'True'\u001b[0m, \u001b[32m'Laboratory Technician'\u001b[0m\u001b[1m]\u001b[0m\n"
      ]
     },
     "metadata": {},
     "output_type": "display_data"
    }
   ],
   "source": [
    "y_pred_zero_shot = get_predictions(qa_list, zero_shot)\n",
    "y_pred_zero_shot = normalize_answers(y_pred_zero_shot)\n",
    "\n",
    "y_pred_code_base = get_predictions(qa_list, code_based)\n",
    "y_pred_code_base = normalize_answers(y_pred_code_base)\n",
    "\n",
    "\n",
    "# Print the predictions\n",
    "print(\"Predictions Zero shot:\")\n",
    "print(y_pred_zero_shot)\n",
    "# Print the predictions\n",
    "print(\"Predictions Code Based:\")\n",
    "print(y_pred_code_base)\n",
    "# Print the sample answers\n",
    "print(\"Sample Answers:\")\n",
    "print(sample_answers[:10])"
   ]
  },
  {
   "cell_type": "code",
   "execution_count": 11,
   "id": "3a8dc0ad",
   "metadata": {},
   "outputs": [
    {
     "name": "stdout",
     "output_type": "stream",
     "text": [
      "Evaluation Results:\n",
      "-------------------\n",
      "Accuracy: 80%\n",
      "Evaluation Types: 100%\n",
      "Evaluation Results:\n",
      "-------------------\n",
      "Accuracy: 0%\n",
      "Evaluation Types: 10%\n"
     ]
    }
   ],
   "source": [
    "from evaluation import evaluate\n",
    "\n",
    "evaluate(y_pred_zero_shot, sample_answers[:10])\n",
    "evaluate(y_pred_code_base, sample_answers[:10])"
   ]
  },
  {
   "cell_type": "code",
   "execution_count": null,
   "id": "63d87801",
   "metadata": {},
   "outputs": [],
   "source": []
  }
 ],
 "metadata": {
  "kernelspec": {
   "display_name": "csc306.venv",
   "language": "python",
   "name": "python3"
  },
  "language_info": {
   "codemirror_mode": {
    "name": "ipython",
    "version": 3
   },
   "file_extension": ".py",
   "mimetype": "text/x-python",
   "name": "python",
   "nbconvert_exporter": "python",
   "pygments_lexer": "ipython3",
   "version": "3.12.6"
  }
 },
 "nbformat": 4,
 "nbformat_minor": 5
}
